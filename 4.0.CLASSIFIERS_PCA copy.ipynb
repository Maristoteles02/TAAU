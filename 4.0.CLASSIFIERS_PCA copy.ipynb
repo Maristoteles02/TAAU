{
 "cells": [
  {
   "cell_type": "code",
   "execution_count": 1,
   "metadata": {},
   "outputs": [],
   "source": [
    "import pandas as pd\n",
    "import numpy as np\n",
    "from tools import *\n",
    "import os\n",
    "import preprocessor\n",
    "import pandas as pd\n",
    "import seaborn as sns\n",
    "import matplotlib.pyplot as plt\n",
    "from sklearn.model_selection import train_test_split\n",
    "from sklearn.preprocessing import StandardScaler\n",
    "from imblearn.over_sampling import SMOTE\n",
    "from imblearn.pipeline import Pipeline as imbpipeline\n",
    "from sklearn.dummy import DummyClassifier\n",
    "from sklearn.neural_network import MLPClassifier\n",
    "from sklearn.neighbors import KNeighborsClassifier\n",
    "\n",
    "from sklearn.tree import DecisionTreeClassifier\n",
    "from sklearn.ensemble import RandomForestClassifier, AdaBoostClassifier\n",
    "from sklearn.naive_bayes import GaussianNB\n",
    "from sklearn.linear_model import LogisticRegression\n",
    "from sklearn import model_selection\n",
    "from sklearn.dummy import DummyClassifier\n",
    "from sklearn.neural_network import MLPClassifier\n",
    "from sklearn.neighbors import KNeighborsClassifier\n",
    "#Ejemplo de smote con cv\n",
    "import numpy as np\n",
    "import pandas as pd\n",
    "from sklearn.linear_model import LogisticRegression\n",
    "from sklearn.model_selection import train_test_split, GridSearchCV, StratifiedKFold\n",
    "from sklearn.preprocessing import MinMaxScaler\n",
    "from sklearn.pipeline import Pipeline\n",
    "from sklearn.datasets import make_classification, load_breast_cancer\n",
    "\n",
    "from sklearn.tree import DecisionTreeClassifier\n",
    "from sklearn.ensemble import RandomForestClassifier, AdaBoostClassifier\n",
    "from sklearn.naive_bayes import GaussianNB\n",
    "from sklearn.linear_model import LogisticRegression\n",
    "from sklearn import model_selection\n",
    "from sklearn.metrics import confusion_matrix,accuracy_score, classification_report, roc_curve\n",
    "from sklearn.ensemble import RandomForestClassifier\n",
    "from sklearn.metrics import f1_score\n",
    "#Random forest grid search\n",
    "from sklearn.metrics import confusion_matrix,accuracy_score, classification_report, roc_curve\n",
    "from sklearn.ensemble import RandomForestClassifier\n",
    "from sklearn.metrics import f1_score\n",
    "import lightgbm as lgb\n",
    "import warnings\n",
    "from sklearn.model_selection import train_test_split,cross_val_score,  GridSearchCV, KFold, StratifiedKFold, RandomizedSearchCV\n",
    "warnings.catch_warnings()\n",
    "\n",
    "from lightgbm import LGBMClassifier\n",
    "from sklearn.model_selection import GridSearchCV\n",
    "from sklearn.metrics import accuracy_score"
   ]
  },
  {
   "cell_type": "code",
   "execution_count": 2,
   "metadata": {},
   "outputs": [],
   "source": [
    "df = pd.read_csv('data/final_dataframe.csv')\n",
    "df=df.drop('Unnamed: 0',axis=1)"
   ]
  },
  {
   "cell_type": "code",
   "execution_count": 3,
   "metadata": {},
   "outputs": [
    {
     "data": {
      "application/vnd.jupyter.widget-view+json": {
       "model_id": "dbd52258d3b1434bbe25a3247a03b9d1",
       "version_major": 2,
       "version_minor": 0
      },
      "text/plain": [
       "Summarize dataset:   0%|          | 0/5 [00:00<?, ?it/s]"
      ]
     },
     "metadata": {},
     "output_type": "display_data"
    },
    {
     "data": {
      "application/vnd.jupyter.widget-view+json": {
       "model_id": "09addfd86a85445ca2dd31d169f42091",
       "version_major": 2,
       "version_minor": 0
      },
      "text/plain": [
       "Generate report structure:   0%|          | 0/1 [00:00<?, ?it/s]"
      ]
     },
     "metadata": {},
     "output_type": "display_data"
    },
    {
     "data": {
      "application/vnd.jupyter.widget-view+json": {
       "model_id": "af6d4eb66a5e4e989ccec81715497605",
       "version_major": 2,
       "version_minor": 0
      },
      "text/plain": [
       "Render widgets:   0%|          | 0/1 [00:00<?, ?it/s]"
      ]
     },
     "metadata": {},
     "output_type": "display_data"
    },
    {
     "data": {
      "application/vnd.jupyter.widget-view+json": {
       "model_id": "127d30d694314856832ab4bd5b82dcc3",
       "version_major": 2,
       "version_minor": 0
      },
      "text/plain": [
       "VBox(children=(Tab(children=(Tab(children=(GridBox(children=(VBox(children=(GridspecLayout(children=(HTML(valu…"
      ]
     },
     "metadata": {},
     "output_type": "display_data"
    }
   ],
   "source": [
    "from ydata_profiling import ProfileReport  \n",
    "profile = ProfileReport(df, title=\"Profiling Report\") \n",
    "profile.to_widgets()\n"
   ]
  },
  {
   "cell_type": "code",
   "execution_count": 4,
   "metadata": {},
   "outputs": [],
   "source": [
    "from sklearn.decomposition import PCA\n",
    "\n",
    "# Separar las características y la variable objetivo\n",
    "X = df.drop('readmitted', axis=1)\n",
    "y = df['readmitted']\n",
    "pca = PCA(n_components=7)  # Puedes cambiar None por el número de componentes\n",
    "X = pca.fit_transform(X)\n"
   ]
  },
  {
   "cell_type": "markdown",
   "metadata": {},
   "source": [
    "## SPLIT"
   ]
  },
  {
   "cell_type": "code",
   "execution_count": 5,
   "metadata": {},
   "outputs": [],
   "source": [
    "columns_to_transform=[]\n",
    "for i in df.columns:\n",
    "    if df[i].dtype!='int64':\n",
    "        df[i]=df[i].astype(int)"
   ]
  },
  {
   "cell_type": "code",
   "execution_count": 6,
   "metadata": {},
   "outputs": [
    {
     "data": {
      "text/plain": [
       "(57176, 7)"
      ]
     },
     "execution_count": 6,
     "metadata": {},
     "output_type": "execute_result"
    }
   ],
   "source": [
    "X.shape"
   ]
  },
  {
   "cell_type": "code",
   "execution_count": 7,
   "metadata": {},
   "outputs": [
    {
     "name": "stdout",
     "output_type": "stream",
     "text": [
      "Distribución de clases después del submuestreo: Counter({0: 26948, 1: 20211})\n"
     ]
    }
   ],
   "source": [
    "from imblearn.over_sampling import RandomOverSampler\n",
    "from imblearn.under_sampling import RandomUnderSampler\n",
    "from collections import Counter\n",
    "from sklearn.model_selection import train_test_split\n",
    "\n",
    "# Cargar tus datos\n",
    "# data = tu_dataframe\n",
    "\n",
    "\n",
    "# Dividir en conjuntos de entrenamiento y prueba\n",
    "X_train, X_test, y_train, y_test = train_test_split(X, y, test_size=0.2,stratify=y, random_state=42)\n",
    "\n",
    "# Sobremuestreo de la clase minoritaria\n",
    "ros = RandomOverSampler(random_state=42)\n",
    "X_train_resampled, y_train_resampled = ros.fit_resample(X_train, y_train)\n",
    "\n",
    "# Calcular la nueva distribución de clases después del sobremuestreo\n",
    "class_distribution = Counter(y_train_resampled)\n",
    "major_class = max(class_distribution, key=class_distribution.get)\n",
    "reduced_major_class_count = int(class_distribution[major_class] * 0.75)\n",
    "\n",
    "# Crear un diccionario para la estrategia de submuestreo\n",
    "sampling_strategy = {major_class: reduced_major_class_count}\n",
    "\n",
    "# Submuestreo de la clase mayoritaria\n",
    "rus = RandomUnderSampler(sampling_strategy=sampling_strategy, random_state=42)\n",
    "X_train_balanced, y_train_balanced = rus.fit_resample(X_train_resampled, y_train_resampled)\n",
    "\n",
    "print(f\"Distribución de clases después del submuestreo: {Counter(y_train_balanced)}\")\n"
   ]
  },
  {
   "cell_type": "code",
   "execution_count": 8,
   "metadata": {},
   "outputs": [
    {
     "name": "stdout",
     "output_type": "stream",
     "text": [
      "Iteración 0/1\n"
     ]
    },
    {
     "name": "stdout",
     "output_type": "stream",
     "text": [
      "[LightGBM] [Info] Number of positive: 18792, number of negative: 26948\n",
      "[LightGBM] [Info] Auto-choosing col-wise multi-threading, the overhead of testing was 0.000690 seconds.\n",
      "You can set `force_col_wise=true` to remove the overhead.\n",
      "[LightGBM] [Info] Total Bins 1785\n",
      "[LightGBM] [Info] Number of data points in the train set: 45740, number of used features: 7\n",
      "[LightGBM] [Info] [binary:BoostFromScore]: pavg=0.410844 -> initscore=-0.360478\n",
      "[LightGBM] [Info] Start training from score -0.360478\n",
      "Mejores parámetros:  {'learning_rate': 0.01, 'max_depth': 15, 'n_estimators': 200, 'num_leaves': 50}\n",
      "Precisión final en el conjunto de prueba:  0.6103532703742567\n"
     ]
    }
   ],
   "source": [
    "from lightgbm import LGBMClassifier\n",
    "from sklearn.model_selection import GridSearchCV\n",
    "from sklearn.metrics import accuracy_score\n",
    "\n",
    "from lightgbm import LGBMClassifier\n",
    "from sklearn.model_selection import GridSearchCV\n",
    "from sklearn.metrics import accuracy_score\n",
    "\n",
    "# Inicializa el espacio de parámetros para la primera iteración\n",
    "param_grid = {\n",
    "    'num_leaves': [10, 50, 100],\n",
    "    'max_depth': [5, 15, 30],\n",
    "    'learning_rate': [0.01, 0.1, 0.3],\n",
    "    'n_estimators': [200]\n",
    "}\n",
    "\n",
    "# Realiza un número determinado de iteraciones\n",
    "n_iterations = 1\n",
    "\n",
    "for iteration in range(0, n_iterations ):\n",
    "    print(f\"Iteración {iteration}/{n_iterations}\")\n",
    "\n",
    "    # Configura y ejecuta la búsqueda en cuadrícula\n",
    "    model = LGBMClassifier()\n",
    "    grid_search = GridSearchCV(estimator=model, param_grid=param_grid, cv=5, scoring='accuracy', n_jobs=-1)\n",
    "    grid_search.fit(X_train, y_train)\n",
    "\n",
    "    # Muestra los mejores parámetros encontrados en esta iteración\n",
    "    best_params = grid_search.best_params_\n",
    "    print(\"Mejores parámetros: \", best_params)\n",
    "\n",
    "    # Ajusta el espacio de parámetros para la siguiente iteración\n",
    "# Ajusta el espacio de parámetros para la siguiente iteración\n",
    "    adjust_factor = 2 + iteration\n",
    "    param_grid = {\n",
    "        'num_leaves': [max(best_params['num_leaves'] - int(best_params['num_leaves'] / adjust_factor), 1), \n",
    "                    best_params['num_leaves'], \n",
    "                    best_params['num_leaves'] + int(best_params['num_leaves'] / adjust_factor)],\n",
    "        'max_depth': [max(best_params['max_depth'] - int(best_params['max_depth'] / adjust_factor), 1), \n",
    "                    best_params['max_depth'], \n",
    "                    best_params['max_depth'] + int(best_params['max_depth'] / adjust_factor)],\n",
    "        'learning_rate': [max(best_params['learning_rate'] - best_params['learning_rate'] / adjust_factor, 0.01), \n",
    "                        best_params['learning_rate'], \n",
    "                        best_params['learning_rate'] + best_params['learning_rate'] / adjust_factor],\n",
    "        'n_estimators': [200]  # Este parámetro se mantiene constante en 200 como en tu solicitud\n",
    "    }\n",
    "\n",
    "\n",
    "# Evaluar el modelo con los mejores parámetros encontrados\n",
    "best_model = grid_search.best_estimator_\n",
    "y_pred = best_model.predict(X_test)\n",
    "accuracy = accuracy_score(y_test, y_pred)\n",
    "print(\"Precisión final en el conjunto de prueba: \", accuracy)\n",
    "\n"
   ]
  },
  {
   "cell_type": "code",
   "execution_count": 14,
   "metadata": {},
   "outputs": [
    {
     "name": "stdout",
     "output_type": "stream",
     "text": [
      "Precisión final en el conjunto de prueba:  0.6103532703742567\n"
     ]
    }
   ],
   "source": [
    "# Evaluar el modelo con los mejores parámetros encontrados\n",
    "best_model = grid_search.best_estimator_\n",
    "y_pred = best_model.predict(X_test)\n",
    "accuracy = accuracy_score(y_test, y_pred)\n",
    "print(\"Precisión final en el conjunto de prueba: \", accuracy)\n",
    "\n",
    "\n",
    "\n",
    "\n",
    "\n"
   ]
  },
  {
   "cell_type": "code",
   "execution_count": 10,
   "metadata": {},
   "outputs": [
    {
     "data": {
      "text/plain": [
       "0.3907997327699617"
      ]
     },
     "execution_count": 10,
     "metadata": {},
     "output_type": "execute_result"
    }
   ],
   "source": [
    "%matplotlib inline\n",
    "from sklearn.metrics import roc_auc_score\n",
    "from itertools import combinations\n",
    "import numpy as np\n",
    "\n",
    "y_pred = best_model.predict_proba(X_test)\n",
    "\n",
    "# Cantidad de clases\n",
    "n_classes = y_pred.shape[1]\n",
    "\n",
    "# Calcular AUC para cada par de clases\n",
    "aucs = []\n",
    "for i, j in combinations(range(n_classes), 2):\n",
    "    # Filtrar las observaciones para las clases i y j\n",
    "    relevant_indices = np.where((y_test == i) | (y_test == j))[0]  # Extraer el array de índices\n",
    "    relevant_test = y_test.iloc[relevant_indices] if isinstance(y_test, pd.Series) else y_test[relevant_indices]\n",
    "    relevant_prob = y_pred[relevant_indices, :][:, [i, j]]\n",
    "\n",
    "    # Crear etiquetas binarias para este par de clases\n",
    "    binary_test = np.where(relevant_test == i, 1, 0)\n",
    "    \n",
    "    # Calcular AUC para este par de clases\n",
    "    auc_ij = roc_auc_score(binary_test, relevant_prob[:, 1])  # Utilizar solo las probabilidades de la segunda clase en el par\n",
    "    aucs.append(auc_ij)\n",
    "\n",
    "# Calcular el promedio de los AUCs\n",
    "mean_auc_ovo = np.mean(aucs)\n",
    "mean_auc_ovo\n"
   ]
  },
  {
   "cell_type": "code",
   "execution_count": 15,
   "metadata": {},
   "outputs": [
    {
     "name": "stdout",
     "output_type": "stream",
     "text": [
      "              precision    recall  f1-score   support\n",
      "\n",
      "           0       0.86      0.62      0.72      9344\n",
      "           1       0.25      0.56      0.34      2092\n",
      "\n",
      "    accuracy                           0.61     11436\n",
      "   macro avg       0.56      0.59      0.53     11436\n",
      "weighted avg       0.75      0.61      0.65     11436\n",
      "\n"
     ]
    }
   ],
   "source": [
    "print(classification_report(y_pred,y_test))"
   ]
  },
  {
   "cell_type": "code",
   "execution_count": 16,
   "metadata": {},
   "outputs": [
    {
     "data": {
      "image/png": "[encoded data removed]",
      "text/plain": [
       "<Figure size 640x480 with 1 Axes>"
      ]
     },
     "metadata": {},
     "output_type": "display_data"
    },
    {
     "ename": "AttributeError",
     "evalue": "'numpy.ndarray' object has no attribute 'columns'",
     "output_type": "error",
     "traceback": [
      "\u001b[1;31m---------------------------------------------------------------------------\u001b[0m",
      "\u001b[1;31mAttributeError\u001b[0m                            Traceback (most recent call last)",
      "Cell \u001b[1;32mIn[16], line 10\u001b[0m\n\u001b[0;32m      6\u001b[0m plt\u001b[38;5;241m.\u001b[39mtitle(\u001b[38;5;124m\"\u001b[39m\u001b[38;5;124mROC\u001b[39m\u001b[38;5;124m\"\u001b[39m)\n\u001b[0;32m      7\u001b[0m plt\u001b[38;5;241m.\u001b[39mshow()\n\u001b[0;32m      9\u001b[0m imp_df \u001b[38;5;241m=\u001b[39m pd\u001b[38;5;241m.\u001b[39mDataFrame(data\u001b[38;5;241m=\u001b[39mbest_model\u001b[38;5;241m.\u001b[39mfeature_importances_, columns\u001b[38;5;241m=\u001b[39m[\u001b[38;5;124m'\u001b[39m\u001b[38;5;124mFeature Importance\u001b[39m\u001b[38;5;124m'\u001b[39m],\n\u001b[1;32m---> 10\u001b[0m                       index\u001b[38;5;241m=\u001b[39m\u001b[43mX\u001b[49m\u001b[38;5;241;43m.\u001b[39;49m\u001b[43mcolumns\u001b[49m)\n\u001b[0;32m     12\u001b[0m imp_df\u001b[38;5;241m.\u001b[39msort_values(\u001b[38;5;124m\"\u001b[39m\u001b[38;5;124mFeature Importance\u001b[39m\u001b[38;5;124m\"\u001b[39m, ascending\u001b[38;5;241m=\u001b[39m\u001b[38;5;28;01mFalse\u001b[39;00m, inplace\u001b[38;5;241m=\u001b[39m\u001b[38;5;28;01mTrue\u001b[39;00m)\n\u001b[0;32m     14\u001b[0m plt\u001b[38;5;241m.\u001b[39mfigure(figsize\u001b[38;5;241m=\u001b[39m(\u001b[38;5;241m10\u001b[39m,\u001b[38;5;241m8\u001b[39m))\n",
      "\u001b[1;31mAttributeError\u001b[0m: 'numpy.ndarray' object has no attribute 'columns'"
     ]
    }
   ],
   "source": [
    "roc = roc_curve(y_test, y_pred, pos_label=1)\n",
    "sns.lineplot(x=roc[0], y=roc[1])\n",
    "sns.lineplot(x=[0,1], y=[0,1], linestyle='--', color='black')\n",
    "plt.xlim([0,1])\n",
    "plt.ylim([0,1])\n",
    "plt.title(\"ROC\")\n",
    "plt.show()\n",
    "\n",
    "imp_df = pd.DataFrame(data=best_model.feature_importances_, columns=['Feature Importance'],\n",
    "                      index=X.columns)\n",
    "\n",
    "imp_df.sort_values(\"Feature Importance\", ascending=False, inplace=True)\n",
    "\n",
    "plt.figure(figsize=(10,8))\n",
    "sns.barplot(y='index', x='Feature Importance', data=imp_df.reset_index())\n",
    "plt.title(\"Feature Importance\")\n",
    "plt.show()"
   ]
  },
  {
   "cell_type": "code",
   "execution_count": null,
   "metadata": {},
   "outputs": [
    {
     "ename": "NameError",
     "evalue": "name 'y_train' is not defined",
     "output_type": "error",
     "traceback": [
      "\u001b[1;31m---------------------------------------------------------------------------\u001b[0m",
      "\u001b[1;31mNameError\u001b[0m                                 Traceback (most recent call last)",
      "Cell \u001b[1;32mIn[1], line 6\u001b[0m\n\u001b[0;32m      4\u001b[0m \u001b[38;5;28;01mimport\u001b[39;00m \u001b[38;5;21;01mtensorflow\u001b[39;00m \u001b[38;5;28;01mas\u001b[39;00m \u001b[38;5;21;01mtf\u001b[39;00m\n\u001b[0;32m      5\u001b[0m \u001b[38;5;28;01mfrom\u001b[39;00m \u001b[38;5;21;01mtensorflow\u001b[39;00m\u001b[38;5;21;01m.\u001b[39;00m\u001b[38;5;21;01mkeras\u001b[39;00m\u001b[38;5;21;01m.\u001b[39;00m\u001b[38;5;21;01mutils\u001b[39;00m \u001b[38;5;28;01mimport\u001b[39;00m to_categorical\n\u001b[1;32m----> 6\u001b[0m y_train \u001b[38;5;241m=\u001b[39m to_categorical(\u001b[43my_train\u001b[49m)\n\u001b[0;32m      7\u001b[0m y_test\u001b[38;5;241m=\u001b[39mto_categorical(y_test)\n\u001b[0;32m      8\u001b[0m auc\u001b[38;5;241m=\u001b[39mtf\u001b[38;5;241m.\u001b[39mkeras\u001b[38;5;241m.\u001b[39mmetrics\u001b[38;5;241m.\u001b[39mAUC(\n\u001b[0;32m      9\u001b[0m     num_thresholds\u001b[38;5;241m=\u001b[39m\u001b[38;5;241m200\u001b[39m,\n\u001b[0;32m     10\u001b[0m     curve\u001b[38;5;241m=\u001b[39m\u001b[38;5;124m'\u001b[39m\u001b[38;5;124mROC\u001b[39m\u001b[38;5;124m'\u001b[39m,\n\u001b[1;32m   (...)\u001b[0m\n\u001b[0;32m     18\u001b[0m     from_logits\u001b[38;5;241m=\u001b[39m\u001b[38;5;28;01mFalse\u001b[39;00m\n\u001b[0;32m     19\u001b[0m )\n",
      "\u001b[1;31mNameError\u001b[0m: name 'y_train' is not defined"
     ]
    }
   ],
   "source": [
    "import tensorflow as tf\n",
    "from keras.models import Sequential\n",
    "from keras.layers import Dense, Dropout,Conv1D\n",
    "import tensorflow as tf\n",
    "from tensorflow.keras.utils import to_categorical\n",
    "y_train = to_categorical(y_train)\n",
    "y_test=to_categorical(y_test)\n",
    "auc=tf.keras.metrics.AUC(\n",
    "    num_thresholds=200,\n",
    "    curve='ROC',\n",
    "    summation_method='interpolation',\n",
    "    name=None,\n",
    "    dtype=None,\n",
    "    thresholds=None,\n",
    "    multi_label=False,\n",
    "    num_labels=None,\n",
    "    label_weights=None,\n",
    "    from_logits=False\n",
    ")\n",
    "\n",
    "\n",
    "model = Sequential()\n",
    "model.add(Dense(256, activation ='relu', input_dim = 10))\n",
    "model.add(Dense(128, activation ='relu'))\n",
    "model.add(Dropout(.5))\n",
    "model.add(Dense(86, activation ='relu'))\n",
    "model.add(Dropout(.5))\n",
    "model.add(Dense(64, activation ='relu'))\n",
    "model.add(Dropout(.25))\n",
    "model.add(Dense(32, activation ='relu'))\n",
    "model.add(Dropout(.1))\n",
    "model.add(Dense(16, activation ='relu'))\n",
    "model.add(Dense(3, activation ='softmax'))\n",
    "\n",
    "\n",
    "\n",
    "model.compile(loss ='categorical_crossentropy', optimizer = 'adam', metrics=[\"accuracy\",tf.keras.metrics.AUC()])\n",
    "\n",
    "model.fit(X_train,\n",
    "          y_train,\n",
    "          verbose = 1,\n",
    "          epochs =100,\n",
    "          batch_size = 512,\n",
    "          validation_data = (X_test, y_test))"
   ]
  }
 ],
 "metadata": {
  "kernelspec": {
   "display_name": "TAU",
   "language": "python",
   "name": "python3"
  },
  "language_info": {
   "codemirror_mode": {
    "name": "ipython",
    "version": 3
   },
   "file_extension": ".py",
   "mimetype": "text/x-python",
   "name": "python",
   "nbconvert_exporter": "python",
   "pygments_lexer": "ipython3",
   "version": "3.10.13"
  }
 },
 "nbformat": 4,
 "nbformat_minor": 2
}
