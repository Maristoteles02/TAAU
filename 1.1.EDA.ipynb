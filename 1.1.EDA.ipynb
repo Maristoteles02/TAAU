{
 "cells": [
  {
   "cell_type": "code",
   "execution_count": 61,
   "metadata": {},
   "outputs": [],
   "source": [
    "import pandas as pd\n",
    "import numpy as np\n",
    "from tools import *\n",
    "import os\n",
    "import preprocessor"
   ]
  },
  {
   "cell_type": "code",
   "execution_count": 62,
   "metadata": {},
   "outputs": [],
   "source": [
    "df = pd.read_csv('data/diabetic_data.csv')"
   ]
  },
  {
   "cell_type": "code",
   "execution_count": 63,
   "metadata": {},
   "outputs": [
    {
     "name": "stderr",
     "output_type": "stream",
     "text": [
      "c:\\Users\\mario\\OneDrive\\Documentos\\TAAU\\TAAU\\preprocessor.py:151: SettingWithCopyWarning: \n",
      "A value is trying to be set on a copy of a slice from a DataFrame.\n",
      "Try using .loc[row_indexer,col_indexer] = value instead\n",
      "\n",
      "See the caveats in the documentation: https://pandas.pydata.org/pandas-docs/stable/user_guide/indexing.html#returning-a-view-versus-a-copy\n",
      "  df['diag_1'] = df['diag_1'].map(d).astype(int)\n",
      "c:\\Users\\mario\\OneDrive\\Documentos\\TAAU\\TAAU\\preprocessor.py:152: SettingWithCopyWarning: \n",
      "A value is trying to be set on a copy of a slice from a DataFrame.\n",
      "Try using .loc[row_indexer,col_indexer] = value instead\n",
      "\n",
      "See the caveats in the documentation: https://pandas.pydata.org/pandas-docs/stable/user_guide/indexing.html#returning-a-view-versus-a-copy\n",
      "  df['diag_2'] = df['diag_2'].map(d).astype(int)\n",
      "c:\\Users\\mario\\OneDrive\\Documentos\\TAAU\\TAAU\\preprocessor.py:153: SettingWithCopyWarning: \n",
      "A value is trying to be set on a copy of a slice from a DataFrame.\n",
      "Try using .loc[row_indexer,col_indexer] = value instead\n",
      "\n",
      "See the caveats in the documentation: https://pandas.pydata.org/pandas-docs/stable/user_guide/indexing.html#returning-a-view-versus-a-copy\n",
      "  df['diag_3'] = df['diag_3'].map(d).astype(int)\n"
     ]
    }
   ],
   "source": [
    "\n",
    "preprocessor_eda=preprocessor.Train_preprocessor('data/mapping_json',binary=True)\n",
    "df=preprocessor_eda.transform_eda(df)\n"
   ]
  },
  {
   "cell_type": "code",
   "execution_count": 64,
   "metadata": {},
   "outputs": [
    {
     "name": "stdout",
     "output_type": "stream",
     "text": [
      "Columnas con más del 10% de valores nulos:\n",
      "weight               96.063033\n",
      "medical_specialty    48.392682\n",
      "dtype: float64\n"
     ]
    }
   ],
   "source": [
    "import pandas as pd\n",
    "import numpy as np\n",
    "\n",
    "# Suponiendo que df es tu DataFrame\n",
    "# df = pd.read_csv('tu_archivo.csv')  # Descomenta y ajusta la ruta del archivo si es necesario\n",
    "\n",
    "# Reemplaza 'NULL', 'null', y '?' con np.nan\n",
    "df.replace(['NULL', 'null', '?'], np.nan, inplace=True)\n",
    "\n",
    "# Calcula el porcentaje de valores nulos en cada columna\n",
    "porcentaje_nulos = df.isnull().mean() * 100\n",
    "\n",
    "# Filtra y muestra las columnas con más del 10% de valores nulos\n",
    "columnas_con_nulos_altos = porcentaje_nulos[porcentaje_nulos > 10]\n",
    "\n",
    "if not columnas_con_nulos_altos.empty:\n",
    "    print(\"Columnas con más del 10% de valores nulos:\")\n",
    "    print(columnas_con_nulos_altos)\n",
    "else:\n",
    "    print(\"No hay columnas con más del 10% de valores nulos.\")\n",
    "df=df.drop(columns=['weight','medical_specialty'])"
   ]
  },
  {
   "cell_type": "code",
   "execution_count": 65,
   "metadata": {},
   "outputs": [
    {
     "data": {
      "text/html": [
       "<div>\n",
       "<style scoped>\n",
       "    .dataframe tbody tr th:only-of-type {\n",
       "        vertical-align: middle;\n",
       "    }\n",
       "\n",
       "    .dataframe tbody tr th {\n",
       "        vertical-align: top;\n",
       "    }\n",
       "\n",
       "    .dataframe thead th {\n",
       "        text-align: right;\n",
       "    }\n",
       "</style>\n",
       "<table border=\"1\" class=\"dataframe\">\n",
       "  <thead>\n",
       "    <tr style=\"text-align: right;\">\n",
       "      <th></th>\n",
       "      <th>race</th>\n",
       "      <th>gender</th>\n",
       "      <th>age</th>\n",
       "      <th>admission_type_id</th>\n",
       "      <th>discharge_disposition_id</th>\n",
       "      <th>admission_source_id</th>\n",
       "      <th>time_in_hospital</th>\n",
       "      <th>num_lab_procedures</th>\n",
       "      <th>num_procedures</th>\n",
       "      <th>num_medications</th>\n",
       "      <th>...</th>\n",
       "      <th>glipizide-metformin</th>\n",
       "      <th>glimepiride-pioglitazone</th>\n",
       "      <th>metformin-rosiglitazone</th>\n",
       "      <th>metformin-pioglitazone</th>\n",
       "      <th>change</th>\n",
       "      <th>diabetesMed</th>\n",
       "      <th>readmitted</th>\n",
       "      <th>n_service_uses</th>\n",
       "      <th>sqrt_n_service_uses</th>\n",
       "      <th>medication/day</th>\n",
       "    </tr>\n",
       "  </thead>\n",
       "  <tbody>\n",
       "    <tr>\n",
       "      <th>2</th>\n",
       "      <td>1</td>\n",
       "      <td>0</td>\n",
       "      <td>25</td>\n",
       "      <td>emergency</td>\n",
       "      <td>home</td>\n",
       "      <td>Emergency Room</td>\n",
       "      <td>2</td>\n",
       "      <td>11</td>\n",
       "      <td>5</td>\n",
       "      <td>13</td>\n",
       "      <td>...</td>\n",
       "      <td>No</td>\n",
       "      <td>No</td>\n",
       "      <td>No</td>\n",
       "      <td>No</td>\n",
       "      <td>0</td>\n",
       "      <td>1</td>\n",
       "      <td>1</td>\n",
       "      <td>3</td>\n",
       "      <td>1.732051</td>\n",
       "      <td>6.500000</td>\n",
       "    </tr>\n",
       "    <tr>\n",
       "      <th>3</th>\n",
       "      <td>2</td>\n",
       "      <td>1</td>\n",
       "      <td>35</td>\n",
       "      <td>emergency</td>\n",
       "      <td>home</td>\n",
       "      <td>Emergency Room</td>\n",
       "      <td>2</td>\n",
       "      <td>44</td>\n",
       "      <td>1</td>\n",
       "      <td>16</td>\n",
       "      <td>...</td>\n",
       "      <td>No</td>\n",
       "      <td>No</td>\n",
       "      <td>No</td>\n",
       "      <td>No</td>\n",
       "      <td>1</td>\n",
       "      <td>1</td>\n",
       "      <td>1</td>\n",
       "      <td>0</td>\n",
       "      <td>0.000000</td>\n",
       "      <td>8.000000</td>\n",
       "    </tr>\n",
       "    <tr>\n",
       "      <th>4</th>\n",
       "      <td>2</td>\n",
       "      <td>1</td>\n",
       "      <td>45</td>\n",
       "      <td>emergency</td>\n",
       "      <td>home</td>\n",
       "      <td>Emergency Room</td>\n",
       "      <td>1</td>\n",
       "      <td>51</td>\n",
       "      <td>0</td>\n",
       "      <td>8</td>\n",
       "      <td>...</td>\n",
       "      <td>No</td>\n",
       "      <td>No</td>\n",
       "      <td>No</td>\n",
       "      <td>No</td>\n",
       "      <td>1</td>\n",
       "      <td>1</td>\n",
       "      <td>1</td>\n",
       "      <td>0</td>\n",
       "      <td>0.000000</td>\n",
       "      <td>8.000000</td>\n",
       "    </tr>\n",
       "    <tr>\n",
       "      <th>6</th>\n",
       "      <td>2</td>\n",
       "      <td>1</td>\n",
       "      <td>65</td>\n",
       "      <td>elective</td>\n",
       "      <td>home</td>\n",
       "      <td>Clinic Referral</td>\n",
       "      <td>4</td>\n",
       "      <td>70</td>\n",
       "      <td>1</td>\n",
       "      <td>21</td>\n",
       "      <td>...</td>\n",
       "      <td>No</td>\n",
       "      <td>No</td>\n",
       "      <td>No</td>\n",
       "      <td>No</td>\n",
       "      <td>1</td>\n",
       "      <td>1</td>\n",
       "      <td>1</td>\n",
       "      <td>0</td>\n",
       "      <td>0.000000</td>\n",
       "      <td>5.250000</td>\n",
       "    </tr>\n",
       "    <tr>\n",
       "      <th>8</th>\n",
       "      <td>2</td>\n",
       "      <td>0</td>\n",
       "      <td>85</td>\n",
       "      <td>urgent</td>\n",
       "      <td>home</td>\n",
       "      <td>Transfer from a hospital</td>\n",
       "      <td>13</td>\n",
       "      <td>68</td>\n",
       "      <td>2</td>\n",
       "      <td>28</td>\n",
       "      <td>...</td>\n",
       "      <td>No</td>\n",
       "      <td>No</td>\n",
       "      <td>No</td>\n",
       "      <td>No</td>\n",
       "      <td>1</td>\n",
       "      <td>1</td>\n",
       "      <td>1</td>\n",
       "      <td>0</td>\n",
       "      <td>0.000000</td>\n",
       "      <td>2.153846</td>\n",
       "    </tr>\n",
       "    <tr>\n",
       "      <th>...</th>\n",
       "      <td>...</td>\n",
       "      <td>...</td>\n",
       "      <td>...</td>\n",
       "      <td>...</td>\n",
       "      <td>...</td>\n",
       "      <td>...</td>\n",
       "      <td>...</td>\n",
       "      <td>...</td>\n",
       "      <td>...</td>\n",
       "      <td>...</td>\n",
       "      <td>...</td>\n",
       "      <td>...</td>\n",
       "      <td>...</td>\n",
       "      <td>...</td>\n",
       "      <td>...</td>\n",
       "      <td>...</td>\n",
       "      <td>...</td>\n",
       "      <td>...</td>\n",
       "      <td>...</td>\n",
       "      <td>...</td>\n",
       "      <td>...</td>\n",
       "    </tr>\n",
       "    <tr>\n",
       "      <th>101334</th>\n",
       "      <td>2</td>\n",
       "      <td>1</td>\n",
       "      <td>85</td>\n",
       "      <td>emergency</td>\n",
       "      <td>home</td>\n",
       "      <td>Emergency Room</td>\n",
       "      <td>5</td>\n",
       "      <td>63</td>\n",
       "      <td>0</td>\n",
       "      <td>9</td>\n",
       "      <td>...</td>\n",
       "      <td>No</td>\n",
       "      <td>No</td>\n",
       "      <td>No</td>\n",
       "      <td>No</td>\n",
       "      <td>1</td>\n",
       "      <td>1</td>\n",
       "      <td>0</td>\n",
       "      <td>0</td>\n",
       "      <td>0.000000</td>\n",
       "      <td>1.800000</td>\n",
       "    </tr>\n",
       "    <tr>\n",
       "      <th>101342</th>\n",
       "      <td>2</td>\n",
       "      <td>0</td>\n",
       "      <td>75</td>\n",
       "      <td>urgent</td>\n",
       "      <td>home</td>\n",
       "      <td>Physician Referral</td>\n",
       "      <td>5</td>\n",
       "      <td>52</td>\n",
       "      <td>1</td>\n",
       "      <td>24</td>\n",
       "      <td>...</td>\n",
       "      <td>No</td>\n",
       "      <td>No</td>\n",
       "      <td>No</td>\n",
       "      <td>No</td>\n",
       "      <td>1</td>\n",
       "      <td>1</td>\n",
       "      <td>0</td>\n",
       "      <td>1</td>\n",
       "      <td>1.000000</td>\n",
       "      <td>4.800000</td>\n",
       "    </tr>\n",
       "    <tr>\n",
       "      <th>101386</th>\n",
       "      <td>2</td>\n",
       "      <td>1</td>\n",
       "      <td>75</td>\n",
       "      <td>urgent</td>\n",
       "      <td>home</td>\n",
       "      <td>Physician Referral</td>\n",
       "      <td>4</td>\n",
       "      <td>20</td>\n",
       "      <td>0</td>\n",
       "      <td>19</td>\n",
       "      <td>...</td>\n",
       "      <td>No</td>\n",
       "      <td>No</td>\n",
       "      <td>No</td>\n",
       "      <td>No</td>\n",
       "      <td>1</td>\n",
       "      <td>1</td>\n",
       "      <td>0</td>\n",
       "      <td>0</td>\n",
       "      <td>0.000000</td>\n",
       "      <td>4.750000</td>\n",
       "    </tr>\n",
       "    <tr>\n",
       "      <th>101391</th>\n",
       "      <td>2</td>\n",
       "      <td>1</td>\n",
       "      <td>45</td>\n",
       "      <td>emergency</td>\n",
       "      <td>home</td>\n",
       "      <td>Emergency Room</td>\n",
       "      <td>5</td>\n",
       "      <td>64</td>\n",
       "      <td>0</td>\n",
       "      <td>19</td>\n",
       "      <td>...</td>\n",
       "      <td>No</td>\n",
       "      <td>No</td>\n",
       "      <td>No</td>\n",
       "      <td>No</td>\n",
       "      <td>0</td>\n",
       "      <td>1</td>\n",
       "      <td>0</td>\n",
       "      <td>5</td>\n",
       "      <td>2.236068</td>\n",
       "      <td>3.800000</td>\n",
       "    </tr>\n",
       "    <tr>\n",
       "      <th>101667</th>\n",
       "      <td>2</td>\n",
       "      <td>1</td>\n",
       "      <td>75</td>\n",
       "      <td>emergency</td>\n",
       "      <td>transfer</td>\n",
       "      <td>Emergency Room</td>\n",
       "      <td>4</td>\n",
       "      <td>37</td>\n",
       "      <td>0</td>\n",
       "      <td>7</td>\n",
       "      <td>...</td>\n",
       "      <td>No</td>\n",
       "      <td>No</td>\n",
       "      <td>No</td>\n",
       "      <td>No</td>\n",
       "      <td>1</td>\n",
       "      <td>1</td>\n",
       "      <td>0</td>\n",
       "      <td>0</td>\n",
       "      <td>0.000000</td>\n",
       "      <td>1.750000</td>\n",
       "    </tr>\n",
       "  </tbody>\n",
       "</table>\n",
       "<p>57176 rows × 45 columns</p>\n",
       "</div>"
      ],
      "text/plain": [
       "        race  gender  age admission_type_id discharge_disposition_id  \\\n",
       "2          1       0   25         emergency                     home   \n",
       "3          2       1   35         emergency                     home   \n",
       "4          2       1   45         emergency                     home   \n",
       "6          2       1   65          elective                     home   \n",
       "8          2       0   85            urgent                     home   \n",
       "...      ...     ...  ...               ...                      ...   \n",
       "101334     2       1   85         emergency                     home   \n",
       "101342     2       0   75            urgent                     home   \n",
       "101386     2       1   75            urgent                     home   \n",
       "101391     2       1   45         emergency                     home   \n",
       "101667     2       1   75         emergency                 transfer   \n",
       "\n",
       "             admission_source_id  time_in_hospital  num_lab_procedures  \\\n",
       "2                 Emergency Room                 2                  11   \n",
       "3                 Emergency Room                 2                  44   \n",
       "4                 Emergency Room                 1                  51   \n",
       "6                Clinic Referral                 4                  70   \n",
       "8       Transfer from a hospital                13                  68   \n",
       "...                          ...               ...                 ...   \n",
       "101334            Emergency Room                 5                  63   \n",
       "101342        Physician Referral                 5                  52   \n",
       "101386        Physician Referral                 4                  20   \n",
       "101391            Emergency Room                 5                  64   \n",
       "101667            Emergency Room                 4                  37   \n",
       "\n",
       "        num_procedures  num_medications  ...  glipizide-metformin  \\\n",
       "2                    5               13  ...                   No   \n",
       "3                    1               16  ...                   No   \n",
       "4                    0                8  ...                   No   \n",
       "6                    1               21  ...                   No   \n",
       "8                    2               28  ...                   No   \n",
       "...                ...              ...  ...                  ...   \n",
       "101334               0                9  ...                   No   \n",
       "101342               1               24  ...                   No   \n",
       "101386               0               19  ...                   No   \n",
       "101391               0               19  ...                   No   \n",
       "101667               0                7  ...                   No   \n",
       "\n",
       "        glimepiride-pioglitazone  metformin-rosiglitazone  \\\n",
       "2                             No                       No   \n",
       "3                             No                       No   \n",
       "4                             No                       No   \n",
       "6                             No                       No   \n",
       "8                             No                       No   \n",
       "...                          ...                      ...   \n",
       "101334                        No                       No   \n",
       "101342                        No                       No   \n",
       "101386                        No                       No   \n",
       "101391                        No                       No   \n",
       "101667                        No                       No   \n",
       "\n",
       "        metformin-pioglitazone change diabetesMed  readmitted n_service_uses  \\\n",
       "2                           No      0           1           1              3   \n",
       "3                           No      1           1           1              0   \n",
       "4                           No      1           1           1              0   \n",
       "6                           No      1           1           1              0   \n",
       "8                           No      1           1           1              0   \n",
       "...                        ...    ...         ...         ...            ...   \n",
       "101334                      No      1           1           0              0   \n",
       "101342                      No      1           1           0              1   \n",
       "101386                      No      1           1           0              0   \n",
       "101391                      No      0           1           0              5   \n",
       "101667                      No      1           1           0              0   \n",
       "\n",
       "       sqrt_n_service_uses medication/day  \n",
       "2                 1.732051       6.500000  \n",
       "3                 0.000000       8.000000  \n",
       "4                 0.000000       8.000000  \n",
       "6                 0.000000       5.250000  \n",
       "8                 0.000000       2.153846  \n",
       "...                    ...            ...  \n",
       "101334            0.000000       1.800000  \n",
       "101342            1.000000       4.800000  \n",
       "101386            0.000000       4.750000  \n",
       "101391            2.236068       3.800000  \n",
       "101667            0.000000       1.750000  \n",
       "\n",
       "[57176 rows x 45 columns]"
      ]
     },
     "execution_count": 65,
     "metadata": {},
     "output_type": "execute_result"
    }
   ],
   "source": [
    "df"
   ]
  },
  {
   "cell_type": "code",
   "execution_count": 66,
   "metadata": {},
   "outputs": [
    {
     "name": "stdout",
     "output_type": "stream",
     "text": [
      "<class 'pandas.core.frame.DataFrame'>\n",
      "Int64Index: 57176 entries, 2 to 101667\n",
      "Data columns (total 45 columns):\n",
      " #   Column                    Non-Null Count  Dtype  \n",
      "---  ------                    --------------  -----  \n",
      " 0   race                      57176 non-null  int64  \n",
      " 1   gender                    57176 non-null  int32  \n",
      " 2   age                       57176 non-null  int64  \n",
      " 3   admission_type_id         57176 non-null  object \n",
      " 4   discharge_disposition_id  57176 non-null  object \n",
      " 5   admission_source_id       57176 non-null  object \n",
      " 6   time_in_hospital          57176 non-null  int64  \n",
      " 7   num_lab_procedures        57176 non-null  int64  \n",
      " 8   num_procedures            57176 non-null  int64  \n",
      " 9   num_medications           57176 non-null  int64  \n",
      " 10  diag_1                    57176 non-null  int32  \n",
      " 11  diag_2                    57176 non-null  int32  \n",
      " 12  diag_3                    57176 non-null  int32  \n",
      " 13  number_diagnoses          57176 non-null  int64  \n",
      " 14  max_glu_serum             57176 non-null  object \n",
      " 15  A1Cresult                 57176 non-null  object \n",
      " 16  metformin                 57176 non-null  int64  \n",
      " 17  repaglinide               57176 non-null  object \n",
      " 18  nateglinide               57176 non-null  object \n",
      " 19  chlorpropamide            57176 non-null  object \n",
      " 20  glimepiride               57176 non-null  object \n",
      " 21  acetohexamide             57176 non-null  object \n",
      " 22  glipizide                 57176 non-null  object \n",
      " 23  glyburide                 57176 non-null  object \n",
      " 24  tolbutamide               57176 non-null  object \n",
      " 25  pioglitazone              57176 non-null  object \n",
      " 26  rosiglitazone             57176 non-null  object \n",
      " 27  acarbose                  57176 non-null  object \n",
      " 28  miglitol                  57176 non-null  object \n",
      " 29  troglitazone              57176 non-null  object \n",
      " 30  tolazamide                57176 non-null  object \n",
      " 31  examide                   57176 non-null  object \n",
      " 32  citoglipton               57176 non-null  object \n",
      " 33  insulin                   57176 non-null  int64  \n",
      " 34  glyburide-metformin       57176 non-null  object \n",
      " 35  glipizide-metformin       57176 non-null  object \n",
      " 36  glimepiride-pioglitazone  57176 non-null  object \n",
      " 37  metformin-rosiglitazone   57176 non-null  object \n",
      " 38  metformin-pioglitazone    57176 non-null  object \n",
      " 39  change                    57176 non-null  int64  \n",
      " 40  diabetesMed               57176 non-null  int64  \n",
      " 41  readmitted                57176 non-null  int32  \n",
      " 42  n_service_uses            57176 non-null  int64  \n",
      " 43  sqrt_n_service_uses       57176 non-null  float64\n",
      " 44  medication/day            57176 non-null  float64\n",
      "dtypes: float64(2), int32(5), int64(12), object(26)\n",
      "memory usage: 19.0+ MB\n"
     ]
    }
   ],
   "source": [
    "df.info()"
   ]
  },
  {
   "cell_type": "markdown",
   "metadata": {},
   "source": [
    "# Variables review"
   ]
  },
  {
   "cell_type": "markdown",
   "metadata": {},
   "source": [
    "## race"
   ]
  },
  {
   "cell_type": "code",
   "execution_count": 67,
   "metadata": {},
   "outputs": [
    {
     "name": "stdout",
     "output_type": "stream",
     "text": [
      "2    43506\n",
      "1    11158\n",
      "5     1138\n",
      "3      965\n",
      "4      409\n",
      "Name: race, dtype: int64\n",
      "0\n"
     ]
    }
   ],
   "source": [
    "print(df['race'].value_counts())\n",
    "print(df['race'].isnull().sum())\n",
    "df=df.dropna(subset='race')"
   ]
  },
  {
   "cell_type": "markdown",
   "metadata": {},
   "source": [
    "## time in hospital"
   ]
  },
  {
   "cell_type": "code",
   "execution_count": 68,
   "metadata": {},
   "outputs": [
    {
     "name": "stdout",
     "output_type": "stream",
     "text": [
      "3     10146\n",
      "2     10031\n",
      "1      8338\n",
      "4      7743\n",
      "5      5528\n",
      "6      4142\n",
      "7      3258\n",
      "8      2332\n",
      "9      1557\n",
      "10     1240\n",
      "11      970\n",
      "12      742\n",
      "13      622\n",
      "14      527\n",
      "Name: time_in_hospital, dtype: int64\n",
      "0\n"
     ]
    }
   ],
   "source": [
    "print(df['time_in_hospital'].value_counts())\n",
    "print(df['time_in_hospital'].isnull().sum())"
   ]
  },
  {
   "cell_type": "markdown",
   "metadata": {},
   "source": [
    "# num_lab_procedures        "
   ]
  },
  {
   "cell_type": "code",
   "execution_count": 69,
   "metadata": {},
   "outputs": [
    {
     "name": "stdout",
     "output_type": "stream",
     "text": [
      "1      1943\n",
      "43     1610\n",
      "45     1361\n",
      "44     1355\n",
      "38     1326\n",
      "       ... \n",
      "118       1\n",
      "104       1\n",
      "105       1\n",
      "109       1\n",
      "132       1\n",
      "Name: num_lab_procedures, Length: 113, dtype: int64\n",
      "0\n"
     ]
    },
    {
     "data": {
      "text/plain": [
       "<Axes: >"
      ]
     },
     "execution_count": 69,
     "metadata": {},
     "output_type": "execute_result"
    },
    {
     "data": {
      "image/png": "[encoded data removed]",
      "text/plain": [
       "<Figure size 640x480 with 1 Axes>"
      ]
     },
     "metadata": {},
     "output_type": "display_data"
    }
   ],
   "source": [
    "print(df['num_lab_procedures'].value_counts())\n",
    "print(df['num_lab_procedures'].isnull().sum())      \n",
    "df['num_lab_procedures'].hist()"
   ]
  },
  {
   "cell_type": "markdown",
   "metadata": {},
   "source": [
    "## diag"
   ]
  },
  {
   "cell_type": "code",
   "execution_count": 70,
   "metadata": {},
   "outputs": [
    {
     "name": "stdout",
     "output_type": "stream",
     "text": [
      "6     17600\n",
      "2      5807\n",
      "7      5323\n",
      "8      5185\n",
      "15     4453\n",
      "16     3876\n",
      "12     3205\n",
      "9      2913\n",
      "1      2099\n",
      "11     1467\n",
      "0      1449\n",
      "4      1249\n",
      "5       728\n",
      "18      699\n",
      "3       566\n",
      "10      522\n",
      "13       34\n",
      "17        1\n",
      "Name: diag_1, dtype: int64\n",
      "0\n"
     ]
    }
   ],
   "source": [
    "print(df['diag_1'].value_counts())\n",
    "print(df['diag_1'].isnull().sum())   "
   ]
  },
  {
   "cell_type": "code",
   "execution_count": 71,
   "metadata": {},
   "outputs": [
    {
     "name": "stdout",
     "output_type": "stream",
     "text": [
      "6     17890\n",
      "2     12029\n",
      "7      5373\n",
      "9      4388\n",
      "15     2643\n",
      "8      2224\n",
      "11     1859\n",
      "3      1690\n",
      "16     1509\n",
      "4      1486\n",
      "1      1346\n",
      "12     1055\n",
      "18     1038\n",
      "0      1014\n",
      "5       768\n",
      "17      464\n",
      "10      333\n",
      "13       67\n",
      "Name: diag_2, dtype: int64\n",
      "0\n"
     ]
    }
   ],
   "source": [
    "print(df['diag_2'].value_counts())\n",
    "print(df['diag_2'].isnull().sum())   "
   ]
  },
  {
   "cell_type": "code",
   "execution_count": 72,
   "metadata": {},
   "outputs": [
    {
     "name": "stdout",
     "output_type": "stream",
     "text": [
      "6     17197\n",
      "2     15544\n",
      "7      3553\n",
      "9      3223\n",
      "15     2598\n",
      "18     2257\n",
      "8      1975\n",
      "4      1757\n",
      "3      1448\n",
      "11     1256\n",
      "16     1170\n",
      "12     1125\n",
      "5      1023\n",
      "0      1020\n",
      "1       978\n",
      "17      741\n",
      "10      248\n",
      "13       63\n",
      "Name: diag_3, dtype: int64\n",
      "0\n"
     ]
    }
   ],
   "source": [
    "print(df['diag_3'].value_counts())\n",
    "print(df['diag_3'].isnull().sum())   "
   ]
  },
  {
   "cell_type": "code",
   "execution_count": 73,
   "metadata": {},
   "outputs": [],
   "source": [
    "df=df.dropna(subset=['diag_1','diag_2','diag_3'])"
   ]
  },
  {
   "cell_type": "markdown",
   "metadata": {},
   "source": [
    "## Medications"
   ]
  },
  {
   "cell_type": "code",
   "execution_count": 74,
   "metadata": {},
   "outputs": [
    {
     "name": "stdout",
     "output_type": "stream",
     "text": [
      "-2    44912\n",
      " 0    11250\n",
      " 1      664\n",
      "-1      350\n",
      "Name: metformin, dtype: int64\n",
      "0\n",
      "No        56340\n",
      "Steady      745\n",
      "Up           66\n",
      "Down         25\n",
      "Name: repaglinide, dtype: int64\n",
      "0\n",
      "No        56710\n",
      "Steady      444\n",
      "Up           14\n",
      "Down          8\n",
      "Name: nateglinide, dtype: int64\n",
      "0\n",
      "No        57135\n",
      "Steady       37\n",
      "Up            3\n",
      "Down          1\n",
      "Name: chlorpropamide, dtype: int64\n",
      "0\n",
      "No        53961\n",
      "Steady     2905\n",
      "Up          188\n",
      "Down        122\n",
      "Name: glimepiride, dtype: int64\n",
      "0\n",
      "No        57175\n",
      "Steady        1\n",
      "Name: acetohexamide, dtype: int64\n",
      "0\n",
      "No        49776\n",
      "Steady     6650\n",
      "Up          452\n",
      "Down        298\n",
      "Name: glipizide, dtype: int64\n",
      "0\n",
      "No        51140\n",
      "Steady     5265\n",
      "Up          472\n",
      "Down        299\n",
      "Name: glyburide, dtype: int64\n",
      "0\n",
      "No        57165\n",
      "Steady       11\n",
      "Name: tolbutamide, dtype: int64\n",
      "0\n",
      "No        52774\n",
      "Steady     4193\n",
      "Up          146\n",
      "Down         63\n",
      "Name: pioglitazone, dtype: int64\n",
      "0\n",
      "No        53346\n",
      "Steady     3672\n",
      "Up          107\n",
      "Down         51\n",
      "Name: rosiglitazone, dtype: int64\n",
      "0\n",
      "No        57026\n",
      "Steady      143\n",
      "Up            7\n",
      "Name: acarbose, dtype: int64\n",
      "0\n",
      "No        57158\n",
      "Steady       16\n",
      "Down          1\n",
      "Up            1\n",
      "Name: miglitol, dtype: int64\n",
      "0\n",
      "No        57174\n",
      "Steady        2\n",
      "Name: troglitazone, dtype: int64\n",
      "0\n",
      "No        57160\n",
      "Steady       16\n",
      "Name: tolazamide, dtype: int64\n",
      "0\n",
      "No    57176\n",
      "Name: examide, dtype: int64\n",
      "0\n",
      "No    57176\n",
      "Name: citoglipton, dtype: int64\n",
      "0\n",
      "-2    27281\n",
      " 0    18072\n",
      "-1     6215\n",
      " 1     5608\n",
      "Name: insulin, dtype: int64\n",
      "0\n",
      "No        56715\n",
      "Steady      453\n",
      "Up            5\n",
      "Down          3\n",
      "Name: glyburide-metformin, dtype: int64\n",
      "0\n",
      "No        57169\n",
      "Steady        7\n",
      "Name: glipizide-metformin, dtype: int64\n",
      "0\n",
      "No    57176\n",
      "Name: glimepiride-pioglitazone, dtype: int64\n",
      "0\n",
      "No    57176\n",
      "Name: metformin-rosiglitazone, dtype: int64\n",
      "0\n",
      "No        57175\n",
      "Steady        1\n",
      "Name: metformin-pioglitazone, dtype: int64\n",
      "0\n"
     ]
    }
   ],
   "source": [
    "for i in df.columns[16:39]:\n",
    "    print(df[i].value_counts())\n",
    "    print(df[i].isnull().sum()) "
   ]
  },
  {
   "cell_type": "code",
   "execution_count": 75,
   "metadata": {},
   "outputs": [
    {
     "name": "stdout",
     "output_type": "stream",
     "text": [
      "Columna 'max_glu_serum' eliminada: máxima frecuencia = 0.9977438085910172\n",
      "Columna 'A1Cresult' eliminada: máxima frecuencia = 0.8149748146075276\n",
      "Columna 'repaglinide' eliminada: máxima frecuencia = 0.9853784804813208\n",
      "Columna 'nateglinide' eliminada: máxima frecuencia = 0.9918497271582483\n",
      "Columna 'chlorpropamide' eliminada: máxima frecuencia = 0.9992829159087729\n",
      "Columna 'glimepiride' eliminada: máxima frecuencia = 0.9437701133342661\n",
      "Columna 'acetohexamide' eliminada: máxima frecuencia = 0.9999825101441164\n",
      "Columna 'glipizide' eliminada: máxima frecuencia = 0.8705750664614523\n",
      "Columna 'glyburide' eliminada: máxima frecuencia = 0.8944312298866657\n",
      "Columna 'tolbutamide' eliminada: máxima frecuencia = 0.9998076115852805\n",
      "Columna 'pioglitazone' eliminada: máxima frecuencia = 0.9230096544004477\n",
      "Columna 'rosiglitazone' eliminada: máxima frecuencia = 0.9330138519658598\n",
      "Columna 'acarbose' eliminada: máxima frecuencia = 0.9973765216174618\n",
      "Columna 'miglitol' eliminada: máxima frecuencia = 0.9996851825940954\n",
      "Columna 'troglitazone' eliminada: máxima frecuencia = 0.9999650202882329\n",
      "Columna 'tolazamide' eliminada: máxima frecuencia = 0.9997201623058626\n",
      "Columna 'examide' eliminada: máxima frecuencia = 1.0\n",
      "Columna 'citoglipton' eliminada: máxima frecuencia = 1.0\n",
      "Columna 'glyburide-metformin' eliminada: máxima frecuencia = 0.9919371764376661\n",
      "Columna 'glipizide-metformin' eliminada: máxima frecuencia = 0.9998775710088149\n",
      "Columna 'glimepiride-pioglitazone' eliminada: máxima frecuencia = 1.0\n",
      "Columna 'metformin-rosiglitazone' eliminada: máxima frecuencia = 1.0\n",
      "Columna 'metformin-pioglitazone' eliminada: máxima frecuencia = 0.9999825101441164\n",
      "Columna 'readmitted' eliminada: máxima frecuencia = 0.9092101581082972\n",
      "Columnas restantes después de la eliminación:\n",
      "race\n",
      "gender\n",
      "age\n",
      "admission_type_id\n",
      "discharge_disposition_id\n",
      "admission_source_id\n",
      "time_in_hospital\n",
      "num_lab_procedures\n",
      "num_procedures\n",
      "num_medications\n",
      "diag_1\n",
      "diag_2\n",
      "diag_3\n",
      "number_diagnoses\n",
      "metformin\n",
      "insulin\n",
      "change\n",
      "diabetesMed\n",
      "n_service_uses\n",
      "sqrt_n_service_uses\n",
      "medication/day\n"
     ]
    }
   ],
   "source": [
    "import pandas as pd\n",
    "\n",
    "# Suponiendo que df es tu DataFrame\n",
    "# df = pd.read_csv('tu_archivo.csv')  # Descomenta y ajusta la ruta del archivo si es necesario\n",
    "\n",
    "# Umbral para considerar una distribución desbalanceada (p. ej., 80%)\n",
    "umbral_desbalance = 0.8\n",
    "\n",
    "# Identifica y elimina las columnas con distribuciones desbalanceadas\n",
    "columnas_a_eliminar = []\n",
    "for columna in df.columns:\n",
    "    max_freq = df[columna].value_counts(normalize=True).max()\n",
    "    if max_freq > umbral_desbalance:\n",
    "        columnas_a_eliminar.append(columna)\n",
    "        print(f\"Columna '{columna}' eliminada: máxima frecuencia = {max_freq}\")\n",
    "\n",
    "# Eliminar las columnas desbalanceadas\n",
    "df.drop(columns=columnas_a_eliminar, inplace=True)\n",
    "\n",
    "# Imprimir las columnas que se mantienen\n",
    "print(\"Columnas restantes después de la eliminación:\")\n",
    "for columna in df.columns:\n",
    "    print(columna)\n"
   ]
  },
  {
   "cell_type": "code",
   "execution_count": 76,
   "metadata": {},
   "outputs": [
    {
     "name": "stdout",
     "output_type": "stream",
     "text": [
      "race\n",
      "gender\n",
      "age\n",
      "admission_type_id\n",
      "discharge_disposition_id\n",
      "admission_source_id\n",
      "time_in_hospital\n",
      "num_lab_procedures\n",
      "num_procedures\n",
      "num_medications\n",
      "diag_1\n",
      "diag_2\n",
      "diag_3\n",
      "number_diagnoses\n",
      "metformin\n",
      "insulin\n",
      "change\n",
      "diabetesMed\n",
      "n_service_uses\n",
      "sqrt_n_service_uses\n",
      "medication/day\n"
     ]
    }
   ],
   "source": [
    "for i in df.columns:\n",
    "    print(i)"
   ]
  },
  {
   "cell_type": "markdown",
   "metadata": {},
   "source": [
    "## change"
   ]
  },
  {
   "cell_type": "code",
   "execution_count": 77,
   "metadata": {},
   "outputs": [
    {
     "name": "stdout",
     "output_type": "stream",
     "text": [
      "0    31053\n",
      "1    26123\n",
      "Name: change, dtype: int64\n",
      "0\n"
     ]
    }
   ],
   "source": [
    "print(df['change'].value_counts())\n",
    "print(df['change'].isnull().sum())   "
   ]
  },
  {
   "cell_type": "markdown",
   "metadata": {},
   "source": [
    "## diabetesMed"
   ]
  },
  {
   "cell_type": "code",
   "execution_count": 78,
   "metadata": {},
   "outputs": [
    {
     "name": "stdout",
     "output_type": "stream",
     "text": [
      "1    43835\n",
      "0    13341\n",
      "Name: diabetesMed, dtype: int64\n",
      "0\n"
     ]
    }
   ],
   "source": [
    "print(df['diabetesMed'].value_counts())\n",
    "print(df['diabetesMed'].isnull().sum())   "
   ]
  },
  {
   "cell_type": "code",
   "execution_count": 79,
   "metadata": {},
   "outputs": [
    {
     "name": "stdout",
     "output_type": "stream",
     "text": [
      "race ------> int64\n",
      "gender ------> int32\n",
      "age ------> int64\n",
      "admission_type_id ------> object\n",
      "discharge_disposition_id ------> object\n",
      "admission_source_id ------> object\n",
      "time_in_hospital ------> int64\n",
      "num_lab_procedures ------> int64\n",
      "num_procedures ------> int64\n",
      "num_medications ------> int64\n",
      "diag_1 ------> int32\n",
      "diag_2 ------> int32\n",
      "diag_3 ------> int32\n",
      "number_diagnoses ------> int64\n",
      "metformin ------> int64\n",
      "insulin ------> int64\n",
      "change ------> int64\n",
      "diabetesMed ------> int64\n",
      "n_service_uses ------> int64\n",
      "sqrt_n_service_uses ------> float64\n",
      "medication/day ------> float64\n"
     ]
    }
   ],
   "source": [
    "for i in df.columns:\n",
    "    print(i,'------>',df[i].dtype)"
   ]
  },
  {
   "cell_type": "code",
   "execution_count": null,
   "metadata": {},
   "outputs": [],
   "source": []
  },
  {
   "cell_type": "code",
   "execution_count": 83,
   "metadata": {},
   "outputs": [
    {
     "name": "stdout",
     "output_type": "stream",
     "text": [
      "race\n"
     ]
    },
    {
     "data": {
      "image/png": "[encoded data removed]",
      "text/plain": [
       "<Figure size 640x480 with 1 Axes>"
      ]
     },
     "metadata": {},
     "output_type": "display_data"
    },
    {
     "name": "stdout",
     "output_type": "stream",
     "text": [
      "gender ------> int32\n",
      "age\n"
     ]
    },
    {
     "data": {
      "image/png": "[encoded data removed]",
      "text/plain": [
       "<Figure size 640x480 with 1 Axes>"
      ]
     },
     "metadata": {},
     "output_type": "display_data"
    },
    {
     "name": "stdout",
     "output_type": "stream",
     "text": [
      "admission_type_id ------> object\n",
      "discharge_disposition_id ------> object\n",
      "admission_source_id ------> object\n",
      "time_in_hospital\n"
     ]
    },
    {
     "data": {
      "image/png": "[encoded data removed]",
      "text/plain": [
       "<Figure size 640x480 with 1 Axes>"
      ]
     },
     "metadata": {},
     "output_type": "display_data"
    },
    {
     "name": "stdout",
     "output_type": "stream",
     "text": [
      "num_lab_procedures\n"
     ]
    },
    {
     "data": {
      "image/png": "[encoded data removed]",
      "text/plain": [
       "<Figure size 640x480 with 1 Axes>"
      ]
     },
     "metadata": {},
     "output_type": "display_data"
    },
    {
     "name": "stdout",
     "output_type": "stream",
     "text": [
      "num_procedures\n"
     ]
    },
    {
     "data": {
      "image/png": "[encoded data removed]",
      "text/plain": [
       "<Figure size 640x480 with 1 Axes>"
      ]
     },
     "metadata": {},
     "output_type": "display_data"
    },
    {
     "name": "stdout",
     "output_type": "stream",
     "text": [
      "num_medications\n"
     ]
    },
    {
     "data": {
      "image/png": "[encoded data removed]",
      "text/plain": [
       "<Figure size 640x480 with 1 Axes>"
      ]
     },
     "metadata": {},
     "output_type": "display_data"
    },
    {
     "name": "stdout",
     "output_type": "stream",
     "text": [
      "diag_1 ------> int32\n",
      "diag_2 ------> int32\n",
      "diag_3 ------> int32\n",
      "number_diagnoses\n"
     ]
    },
    {
     "data": {
      "image/png": "[encoded data removed]",
      "text/plain": [
       "<Figure size 640x480 with 1 Axes>"
      ]
     },
     "metadata": {},
     "output_type": "display_data"
    },
    {
     "name": "stdout",
     "output_type": "stream",
     "text": [
      "metformin\n"
     ]
    },
    {
     "data": {
      "image/png": "[encoded data removed]",
      "text/plain": [
       "<Figure size 640x480 with 1 Axes>"
      ]
     },
     "metadata": {},
     "output_type": "display_data"
    },
    {
     "name": "stdout",
     "output_type": "stream",
     "text": [
      "insulin\n"
     ]
    },
    {
     "data": {
      "image/png": "[encoded data removed]",
      "text/plain": [
       "<Figure size 640x480 with 1 Axes>"
      ]
     },
     "metadata": {},
     "output_type": "display_data"
    },
    {
     "name": "stdout",
     "output_type": "stream",
     "text": [
      "change\n"
     ]
    },
    {
     "data": {
      "image/png": "[encoded data removed]",
      "text/plain": [
       "<Figure size 640x480 with 1 Axes>"
      ]
     },
     "metadata": {},
     "output_type": "display_data"
    },
    {
     "name": "stdout",
     "output_type": "stream",
     "text": [
      "diabetesMed\n"
     ]
    },
    {
     "data": {
      "image/png": "[encoded data removed]",
      "text/plain": [
       "<Figure size 640x480 with 1 Axes>"
      ]
     },
     "metadata": {},
     "output_type": "display_data"
    },
    {
     "name": "stdout",
     "output_type": "stream",
     "text": [
      "n_service_uses\n"
     ]
    },
    {
     "data": {
      "image/png": "[encoded data removed]",
      "text/plain": [
       "<Figure size 640x480 with 1 Axes>"
      ]
     },
     "metadata": {},
     "output_type": "display_data"
    },
    {
     "name": "stdout",
     "output_type": "stream",
     "text": [
      "sqrt_n_service_uses ------> float64\n",
      "medication/day ------> float64\n"
     ]
    }
   ],
   "source": [
    "from matplotlib import pyplot as plt\n",
    "columns_to_transform=[]\n",
    "for i in df.columns:\n",
    "    if df[i].dtype!='int64':\n",
    "        print(i,'------>',df[i].dtype)\n",
    "    else:\n",
    "        print(i)\n",
    "        plt.hist(df[i])\n",
    "        plt.show()"
   ]
  }
 ],
 "metadata": {
  "kernelspec": {
   "display_name": "TAU",
   "language": "python",
   "name": "python3"
  },
  "language_info": {
   "codemirror_mode": {
    "name": "ipython",
    "version": 3
   },
   "file_extension": ".py",
   "mimetype": "text/x-python",
   "name": "python",
   "nbconvert_exporter": "python",
   "pygments_lexer": "ipython3",
   "version": "3.10.13"
  }
 },
 "nbformat": 4,
 "nbformat_minor": 2
}
